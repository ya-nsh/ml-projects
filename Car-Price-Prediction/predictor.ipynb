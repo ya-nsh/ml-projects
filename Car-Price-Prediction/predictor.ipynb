{
 "metadata": {
  "language_info": {
   "codemirror_mode": {
    "name": "ipython",
    "version": 3
   },
   "file_extension": ".py",
   "mimetype": "text/x-python",
   "name": "python",
   "nbconvert_exporter": "python",
   "pygments_lexer": "ipython3",
   "version": "3.8.7"
  },
  "orig_nbformat": 2,
  "kernelspec": {
   "name": "python387jvsc74a57bd08a6378035587bb97055001603ea9d85a2aa377cc6252a50ffca4355a71bc8b90",
   "display_name": "Python 3.8.7 64-bit"
  }
 },
 "nbformat": 4,
 "nbformat_minor": 2,
 "cells": [
  {
   "cell_type": "code",
   "execution_count": 2,
   "metadata": {},
   "outputs": [],
   "source": [
    "import pandas as pd\n",
    "import numpy as np\n",
    "import matplotlib.pyplot as plt\n",
    "import matplotlib as mpl\n",
    "%matplotlib inline\n",
    "mpl.style.use('ggplot')\n"
   ]
  },
  {
   "cell_type": "code",
   "execution_count": 3,
   "metadata": {},
   "outputs": [],
   "source": [
    "carData = pd.read_csv(\"car-prices.csv\")"
   ]
  },
  {
   "cell_type": "code",
   "execution_count": 4,
   "metadata": {},
   "outputs": [
    {
     "output_type": "execute_result",
     "data": {
      "text/plain": [
       "                                       name    company  year          Price  \\\n",
       "0      Hyundai Santro Xing XO eRLX Euro III    Hyundai  2007         80,000   \n",
       "1                   Mahindra Jeep CL550 MDI   Mahindra  2006       4,25,000   \n",
       "2                Maruti Suzuki Alto 800 Vxi     Maruti  2018  Ask For Price   \n",
       "3    Hyundai Grand i10 Magna 1.2 Kappa VTVT    Hyundai  2014       3,25,000   \n",
       "4          Ford EcoSport Titanium 1.5L TDCi       Ford  2014       5,75,000   \n",
       "..                                      ...        ...   ...            ...   \n",
       "887                                      Ta       Tara  zest       3,10,000   \n",
       "888                     Tata Zest XM Diesel       Tata  2018       2,60,000   \n",
       "889                      Mahindra Quanto C8   Mahindra  2013       3,90,000   \n",
       "890                Honda Amaze 1.2 E i VTEC      Honda  2014       1,80,000   \n",
       "891               Chevrolet Sail 1.2 LT ABS  Chevrolet  2014       1,60,000   \n",
       "\n",
       "     kms_driven fuel_type  \n",
       "0    45,000 kms    Petrol  \n",
       "1        40 kms    Diesel  \n",
       "2    22,000 kms    Petrol  \n",
       "3    28,000 kms    Petrol  \n",
       "4    36,000 kms    Diesel  \n",
       "..          ...       ...  \n",
       "887         NaN       NaN  \n",
       "888  27,000 kms    Diesel  \n",
       "889  40,000 kms    Diesel  \n",
       "890      Petrol       NaN  \n",
       "891      Petrol       NaN  \n",
       "\n",
       "[892 rows x 6 columns]"
      ],
      "text/html": "<div>\n<style scoped>\n    .dataframe tbody tr th:only-of-type {\n        vertical-align: middle;\n    }\n\n    .dataframe tbody tr th {\n        vertical-align: top;\n    }\n\n    .dataframe thead th {\n        text-align: right;\n    }\n</style>\n<table border=\"1\" class=\"dataframe\">\n  <thead>\n    <tr style=\"text-align: right;\">\n      <th></th>\n      <th>name</th>\n      <th>company</th>\n      <th>year</th>\n      <th>Price</th>\n      <th>kms_driven</th>\n      <th>fuel_type</th>\n    </tr>\n  </thead>\n  <tbody>\n    <tr>\n      <th>0</th>\n      <td>Hyundai Santro Xing XO eRLX Euro III</td>\n      <td>Hyundai</td>\n      <td>2007</td>\n      <td>80,000</td>\n      <td>45,000 kms</td>\n      <td>Petrol</td>\n    </tr>\n    <tr>\n      <th>1</th>\n      <td>Mahindra Jeep CL550 MDI</td>\n      <td>Mahindra</td>\n      <td>2006</td>\n      <td>4,25,000</td>\n      <td>40 kms</td>\n      <td>Diesel</td>\n    </tr>\n    <tr>\n      <th>2</th>\n      <td>Maruti Suzuki Alto 800 Vxi</td>\n      <td>Maruti</td>\n      <td>2018</td>\n      <td>Ask For Price</td>\n      <td>22,000 kms</td>\n      <td>Petrol</td>\n    </tr>\n    <tr>\n      <th>3</th>\n      <td>Hyundai Grand i10 Magna 1.2 Kappa VTVT</td>\n      <td>Hyundai</td>\n      <td>2014</td>\n      <td>3,25,000</td>\n      <td>28,000 kms</td>\n      <td>Petrol</td>\n    </tr>\n    <tr>\n      <th>4</th>\n      <td>Ford EcoSport Titanium 1.5L TDCi</td>\n      <td>Ford</td>\n      <td>2014</td>\n      <td>5,75,000</td>\n      <td>36,000 kms</td>\n      <td>Diesel</td>\n    </tr>\n    <tr>\n      <th>...</th>\n      <td>...</td>\n      <td>...</td>\n      <td>...</td>\n      <td>...</td>\n      <td>...</td>\n      <td>...</td>\n    </tr>\n    <tr>\n      <th>887</th>\n      <td>Ta</td>\n      <td>Tara</td>\n      <td>zest</td>\n      <td>3,10,000</td>\n      <td>NaN</td>\n      <td>NaN</td>\n    </tr>\n    <tr>\n      <th>888</th>\n      <td>Tata Zest XM Diesel</td>\n      <td>Tata</td>\n      <td>2018</td>\n      <td>2,60,000</td>\n      <td>27,000 kms</td>\n      <td>Diesel</td>\n    </tr>\n    <tr>\n      <th>889</th>\n      <td>Mahindra Quanto C8</td>\n      <td>Mahindra</td>\n      <td>2013</td>\n      <td>3,90,000</td>\n      <td>40,000 kms</td>\n      <td>Diesel</td>\n    </tr>\n    <tr>\n      <th>890</th>\n      <td>Honda Amaze 1.2 E i VTEC</td>\n      <td>Honda</td>\n      <td>2014</td>\n      <td>1,80,000</td>\n      <td>Petrol</td>\n      <td>NaN</td>\n    </tr>\n    <tr>\n      <th>891</th>\n      <td>Chevrolet Sail 1.2 LT ABS</td>\n      <td>Chevrolet</td>\n      <td>2014</td>\n      <td>1,60,000</td>\n      <td>Petrol</td>\n      <td>NaN</td>\n    </tr>\n  </tbody>\n</table>\n<p>892 rows × 6 columns</p>\n</div>"
     },
     "metadata": {},
     "execution_count": 4
    }
   ],
   "source": [
    "carData"
   ]
  },
  {
   "cell_type": "code",
   "execution_count": 1,
   "metadata": {},
   "outputs": [
    {
     "output_type": "error",
     "ename": "NameError",
     "evalue": "name 'carData' is not defined",
     "traceback": [
      "\u001b[1;31m---------------------------------------------------------------------------\u001b[0m",
      "\u001b[1;31mNameError\u001b[0m                                 Traceback (most recent call last)",
      "\u001b[1;32m<ipython-input-1-ec5925ed2f57>\u001b[0m in \u001b[0;36m<module>\u001b[1;34m\u001b[0m\n\u001b[1;32m----> 1\u001b[1;33m \u001b[0mcarData\u001b[0m\u001b[1;33m.\u001b[0m\u001b[0mshape\u001b[0m\u001b[1;33m\u001b[0m\u001b[1;33m\u001b[0m\u001b[0m\n\u001b[0m",
      "\u001b[1;31mNameError\u001b[0m: name 'carData' is not defined"
     ]
    }
   ],
   "source": [
    "carData.shape"
   ]
  },
  {
   "cell_type": "code",
   "execution_count": 7,
   "metadata": {},
   "outputs": [
    {
     "output_type": "stream",
     "name": "stdout",
     "text": [
      "<class 'pandas.core.frame.DataFrame'>\nRangeIndex: 892 entries, 0 to 891\nData columns (total 6 columns):\n #   Column      Non-Null Count  Dtype \n---  ------      --------------  ----- \n 0   name        892 non-null    object\n 1   company     892 non-null    object\n 2   year        892 non-null    object\n 3   Price       892 non-null    object\n 4   kms_driven  840 non-null    object\n 5   fuel_type   837 non-null    object\ndtypes: object(6)\nmemory usage: 41.9+ KB\n"
     ]
    }
   ],
   "source": [
    "carData.info()"
   ]
  },
  {
   "cell_type": "code",
   "execution_count": 8,
   "metadata": {},
   "outputs": [],
   "source": [
    "cloned = carData.copy()"
   ]
  },
  {
   "source": [
    "# Cleaning Data "
   ],
   "cell_type": "markdown",
   "metadata": {}
  },
  {
   "source": [
    " ## Problems with the dataset\n",
    " * year has many non-year values\n",
    " * year is in object"
   ],
   "cell_type": "markdown",
   "metadata": {}
  },
  {
   "cell_type": "code",
   "execution_count": null,
   "metadata": {},
   "outputs": [],
   "source": []
  }
 ]
}