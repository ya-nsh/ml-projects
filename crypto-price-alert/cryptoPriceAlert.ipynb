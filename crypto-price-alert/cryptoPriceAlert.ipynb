{
 "cells": [
  {
   "cell_type": "markdown",
   "metadata": {},
   "source": [
    "# Importing Libraries"
   ]
  },
  {
   "cell_type": "code",
   "execution_count": 3,
   "metadata": {},
   "outputs": [],
   "source": [
    "import ssl\n",
    "import time\n",
    "import smtplib\n",
    "import requests\n",
    "import numpy as np\n",
    "from bs4 import BeautifulSoup\n",
    "from email.mime.text import MIMEText as MT\n",
    "from email.mime.multipart import MIMEMultipart as MM\n"
   ]
  },
  {
   "cell_type": "markdown",
   "metadata": {},
   "source": [
    "# Function to get the price of the cryptocurrency"
   ]
  },
  {
   "cell_type": "code",
   "execution_count": 12,
   "metadata": {},
   "outputs": [],
   "source": [
    "# Function to get the price of the cryptocurrency\n",
    "def get_price(cryptoCoin):\n",
    "    \"\"\"\n",
    "    Get the price of the cryptocurrency from the url.\n",
    "    \"\"\"\n",
    "    # url = 'https://coinmarketcap.com/currencies/' + cryptoCoin + '/'\n",
    "    url = \"https://www.google.com/search?q=\" + cryptoCoin + \"+price\"\n",
    "\n",
    "    # sending a request to the website\n",
    "    html = requests.get(url)\n",
    "\n",
    "    # parsing the received html content\n",
    "    soup = BeautifulSoup(html.text, \"html.parser\")\n",
    "\n",
    "    # Getting the current price of the cryptocurrency\n",
    "    price = soup.find(\"div\", class_=\"BNeawe iBp4i AP7Wnd\").text\n",
    "\n",
    "    # page = requests.get(url)\n",
    "    # soup = BeautifulSoup(page.content, \"html.parser\")\n",
    "    # price = soup.find(id=\"quote_price\").get_text()\n",
    "    # price = price.replace(\",\", \"\")\n",
    "    # price = price.replace(\"$\", \"\")\n",
    "    # price = float(price)\n",
    "    return price\n"
   ]
  },
  {
   "cell_type": "code",
   "execution_count": 19,
   "metadata": {},
   "outputs": [
    {
     "data": {
      "text/plain": [
       "'44,23,849.61 Indian Rupee'"
      ]
     },
     "execution_count": 19,
     "metadata": {},
     "output_type": "execute_result"
    }
   ],
   "source": [
    "get_price(\"bitcoin\")\n"
   ]
  },
  {
   "cell_type": "markdown",
   "metadata": {},
   "source": [
    "# Email alert"
   ]
  },
  {
   "cell_type": "code",
   "execution_count": 20,
   "metadata": {},
   "outputs": [],
   "source": [
    "sender = \"sender@gmail.com\"\n",
    "receiver = \"receiver@gmail.com\"\n",
    "senderPassword = \"password\"\n"
   ]
  },
  {
   "cell_type": "code",
   "execution_count": 22,
   "metadata": {},
   "outputs": [],
   "source": [
    "def send_email(sender, receiver, senderPassword, price):\n",
    "    \"\"\"\n",
    "    Send an email to the user with the price of the cryptocurrency.\n",
    "    \"\"\"\n",
    "\n",
    "    message = MM()\n",
    "\n",
    "    message[\"Subject\"] = \"Crypto Coin Price Alert\"\n",
    "    message[\"From\"] = sender\n",
    "    message[\"To\"] = receiver\n",
    "\n",
    "    # Message body\n",
    "    msg_body = (\n",
    "        \"\"\"\n",
    "    <html>\n",
    "        <body>\n",
    "            <h1>The price of the cryptocurrency is:</h1>\n",
    "            <h2>\"\"\"\n",
    "        + str(price)\n",
    "        + \"\"\"</h2>\n",
    "        </body>\n",
    "    </html>\n",
    "    \"\"\"\n",
    "    )\n",
    "\n",
    "    # Instantiating the MIMEText object\n",
    "    MTO = MT(msg_body, \"html\")\n",
    "    message.attach(MTO)\n",
    "\n",
    "    # SSL Context object\n",
    "    context = ssl.create_default_context()\n",
    "    # Establishing the connection\n",
    "    server = smtplib.SMTP_SSL(host=\"smtp.gmail.com\", port=465, context=context)\n",
    "\n",
    "    server.login(sender, senderPassword)\n",
    "    server.sendmail(sender, receiver, message.as_string())\n"
   ]
  },
  {
   "cell_type": "code",
   "execution_count": null,
   "metadata": {},
   "outputs": [],
   "source": [
    "# Sending the email when price of Bitcoin changes\n",
    "def sendInfo():\n",
    "    lastPrice = get_price(\"bitcoin\")\n",
    "\n",
    "    while True:\n",
    "        currentPrice = get_price(\"bitcoin\")\n",
    "\n",
    "        # Price change condition\n",
    "        if currentPrice != lastPrice:\n",
    "            send_email(sender, receiver, senderPassword, currentPrice)\n",
    "            lastPrice = currentPrice\n",
    "        time.sleep(60)\n",
    "\n",
    "\n",
    "sendInfo()\n"
   ]
  }
 ],
 "metadata": {
  "interpreter": {
   "hash": "d085f02f3a09ae4e33919a7a2cf25fa00bb1c3246d517585a6dbb36092ccba58"
  },
  "kernelspec": {
   "display_name": "Python 3.9.6 64-bit",
   "name": "python3"
  },
  "language_info": {
   "codemirror_mode": {
    "name": "ipython",
    "version": 3
   },
   "file_extension": ".py",
   "mimetype": "text/x-python",
   "name": "python",
   "nbconvert_exporter": "python",
   "pygments_lexer": "ipython3",
   "version": "3.9.6"
  },
  "orig_nbformat": 4
 },
 "nbformat": 4,
 "nbformat_minor": 2
}
